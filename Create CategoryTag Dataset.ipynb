{
 "cells": [
  {
   "cell_type": "code",
   "execution_count": null,
   "metadata": {},
   "outputs": [],
   "source": [
    "import json\n",
    "import pandas as pd\n",
    "import numpy as np"
   ]
  },
  {
   "cell_type": "code",
   "execution_count": null,
   "metadata": {},
   "outputs": [],
   "source": [
    "# Load in JSON file\n",
    "recipe_data = pd.read_json('full_format_recipes.json')"
   ]
  },
  {
   "cell_type": "markdown",
   "metadata": {},
   "source": [
    "# Initial Understanding of Data"
   ]
  },
  {
   "cell_type": "code",
   "execution_count": null,
   "metadata": {},
   "outputs": [],
   "source": [
    "recipe_data.iloc[:10,:]"
   ]
  },
  {
   "cell_type": "code",
   "execution_count": null,
   "metadata": {},
   "outputs": [],
   "source": [
    "# print(recipe_data['title'][0])\n",
    "# recipe_data['categories'][0]"
   ]
  },
  {
   "cell_type": "code",
   "execution_count": null,
   "metadata": {},
   "outputs": [],
   "source": [
    "# recipe_data['directions'][0]"
   ]
  },
  {
   "cell_type": "code",
   "execution_count": null,
   "metadata": {},
   "outputs": [],
   "source": [
    "# recipe_data['ingredients'][0]"
   ]
  },
  {
   "cell_type": "markdown",
   "metadata": {},
   "source": [
    "# Data Exploration"
   ]
  },
  {
   "cell_type": "code",
   "execution_count": null,
   "metadata": {},
   "outputs": [],
   "source": [
    "# recipe_data.dtypes"
   ]
  },
  {
   "cell_type": "markdown",
   "metadata": {},
   "source": [
    "## Null Values"
   ]
  },
  {
   "cell_type": "code",
   "execution_count": null,
   "metadata": {},
   "outputs": [],
   "source": [
    "# recipe_data.isna().sum()\n",
    "# cookbook.shape #20,130 rows x 11 columns"
   ]
  },
  {
   "cell_type": "code",
   "execution_count": null,
   "metadata": {},
   "outputs": [],
   "source": [
    "recipe_data = recipe_data[recipe_data['rating'].notnull()]\n",
    "# recipe_data.isna().sum()"
   ]
  },
  {
   "cell_type": "markdown",
   "metadata": {},
   "source": [
    "## Derived Variables"
   ]
  },
  {
   "cell_type": "code",
   "execution_count": null,
   "metadata": {},
   "outputs": [],
   "source": [
    "recipe_data['has_desc'] = np.where(recipe_data['desc'], 1, 0)\n",
    "recipe_data = recipe_data.drop(['desc'], axis=1)\n",
    "recipe_data['n_directions'] = recipe_data['directions'].apply(len)\n",
    "recipe_data['n_ingredients'] = recipe_data['ingredients'].apply(len)\n",
    "recipe_data['rating_rounded'] = recipe_data['rating'].apply(lambda x: round(x))"
   ]
  },
  {
   "cell_type": "code",
   "execution_count": null,
   "metadata": {},
   "outputs": [],
   "source": [
    "recipe_data = recipe_data.dropna()\n",
    "recipe_data = recipe_data.reset_index(drop=True)\n",
    "recipe_data.isna().sum()\n",
    "# recipe_data.head()\n",
    "recipe_data.shape #15,896 rows X 13 columns"
   ]
  },
  {
   "cell_type": "markdown",
   "metadata": {},
   "source": [
    "### Cross-Validate Category Tags"
   ]
  },
  {
   "cell_type": "code",
   "execution_count": null,
   "metadata": {},
   "outputs": [],
   "source": [
    "# existing_categories = set()\n",
    "# for cat_list in recipe_data['categories']:\n",
    "#     for cat_word in cat_list:\n",
    "#         existing_categories.add(cat_word.lower())\n",
    "# len(existing_categories) #returned 662\n",
    "# # recipe_data.head()"
   ]
  },
  {
   "cell_type": "code",
   "execution_count": null,
   "metadata": {},
   "outputs": [],
   "source": [
    "# actual_categories = set()\n",
    "# for row in range(len(recipe_data)):\n",
    "#     for ing_list in recipe_data['ingredients'][row]:\n",
    "#         for word in existing_categories:\n",
    "#             if word in ing_list.lower():\n",
    "#                 actual_categories.add(word)\n",
    "# len(actual_categories) #returned 462"
   ]
  },
  {
   "cell_type": "code",
   "execution_count": null,
   "metadata": {},
   "outputs": [],
   "source": [
    "# for row in range(len(recipe_data)):\n",
    "#     for dir_list in recipe_data['directions'][row]:\n",
    "#         for word in existing_categories:\n",
    "#             if word in dir_list.lower():\n",
    "#                 actual_categories.add(word)\n",
    "# len(actual_categories) #returned 491"
   ]
  },
  {
   "cell_type": "code",
   "execution_count": null,
   "metadata": {},
   "outputs": [],
   "source": [
    "# for row in range(len(recipe_data)):\n",
    "#     for title in recipe_data['title'][row]:\n",
    "#         for word in existing_categories:\n",
    "#             if word in title.lower():\n",
    "#                 actual_categories.add(word)\n",
    "# len(actual_categories) #returned 491"
   ]
  },
  {
   "cell_type": "code",
   "execution_count": null,
   "metadata": {},
   "outputs": [],
   "source": [
    "# not_included_categories = existing_categories.difference(actual_categories)\n",
    "# not_included_categories"
   ]
  },
  {
   "cell_type": "code",
   "execution_count": null,
   "metadata": {},
   "outputs": [],
   "source": [
    "# sorted_categories = list(actual_categories)\n",
    "# sorted_categories.sort()"
   ]
  },
  {
   "cell_type": "code",
   "execution_count": null,
   "metadata": {},
   "outputs": [],
   "source": [
    "# import time\n",
    "# import csv\n",
    "# start = time.time()\n",
    "\n",
    "# fieldnames = ['title']\n",
    "# def get_tags(fieldnames, data, sorted_categories):\n",
    "#     fn = fieldnames.copy()\n",
    "#     length = 1+len(sorted_categories)\n",
    "#     actual_categories = list(sorted_categories)\n",
    "#     for tag in sorted_categories:\n",
    "#         fn.append(tag)\n",
    "#     DF = pd.DataFrame()\n",
    "#     for row in range(len(recipe_data)): #len(recipe_data) #Get the data out with the associated column name\n",
    "#         recipedata = list([0]*length)\n",
    "#         recipedata[0] = recipe_data['title'][row]\n",
    "#         ingredients = recipe_data['ingredients']\n",
    "#         directions = recipe_data['directions']\n",
    "#         titles = recipe_data['title'][row].replace(',','').split()\n",
    "#         i=1\n",
    "#         j=1\n",
    "#         k=1\n",
    "#         for word in sorted_categories:\n",
    "#             for ingredient in ingredients[row]:\n",
    "#                 ingredient_word = ingredient.replace(',', '').split()\n",
    "#                 ingredient_word.sort()\n",
    "#                 for ing_word in ingredient_word:\n",
    "#                     if ing_word.lower() == word:\n",
    "#     #                         print(word,i)\n",
    "#                         recipedata[i] = 1\n",
    "#                         break\n",
    "#             for direction in directions[row]:\n",
    "#                 direction_word = direction.replace(',', '').split()\n",
    "#                 direction_word.sort()\n",
    "#                 for dir_word in direction_word:\n",
    "#                     if word == dir_word.lower():\n",
    "#                         recipedata[j] = 1\n",
    "#                         break\n",
    "#             for title in titles:\n",
    "#                 if word == title.lower():\n",
    "#                     recipedata[k] = 1\n",
    "#                     break\n",
    "#             i = i+1\n",
    "#             j = j+1\n",
    "#             k = k+1        \n",
    "#         df_temp = pd.DataFrame(data = np.array(recipedata).reshape((1,len(fn))), columns= fn)\n",
    "#         DF = DF.append(df_temp, ignore_index = True)\n",
    "#     return DF\n",
    "  \n",
    "# cookbook_tags = get_tags(fieldnames, recipe_data, sorted_categories)\n",
    "# end = time.time()\n",
    "# print(end-start)\n",
    "\n",
    "\n",
    "# cookbook_tags.to_pickle('tags.pkl')"
   ]
  }
 ],
 "metadata": {
  "kernelspec": {
   "display_name": "Python 3",
   "language": "python",
   "name": "python3"
  },
  "language_info": {
   "codemirror_mode": {
    "name": "ipython",
    "version": 3
   },
   "file_extension": ".py",
   "mimetype": "text/x-python",
   "name": "python",
   "nbconvert_exporter": "python",
   "pygments_lexer": "ipython3",
   "version": "3.6.5"
  }
 },
 "nbformat": 4,
 "nbformat_minor": 2
}
